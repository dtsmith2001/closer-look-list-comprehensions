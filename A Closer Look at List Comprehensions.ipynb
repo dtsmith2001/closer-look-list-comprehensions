{
 "cells": [
  {
   "cell_type": "markdown",
   "metadata": {},
   "source": [
    "# A Closer Look at Python List Comprehensions\n",
    "\n",
    "Inspired by Trey Hunner's blog post (https://treyhunner.com/2015/12/python-list-comprehensions-now-in-color/), I'm taking a bit deeper look into list comprehensions.\n",
    "\n",
    "We start with a typical task in Python - transform an existing list into a new one."
   ]
  },
  {
   "cell_type": "code",
   "execution_count": 11,
   "metadata": {
    "collapsed": false
   },
   "outputs": [],
   "source": [
    "def func(item):\n",
    "    return item > 0\n",
    "\n",
    "def f1():\n",
    "    old_list = [0, 1, 2, -1, -3, 2]\n",
    "    new_list = []\n",
    "    for item in old_list:\n",
    "        if func(item):\n",
    "            new_list.append(item)\n",
    "    return new_list"
   ]
  },
  {
   "cell_type": "markdown",
   "metadata": {},
   "source": [
    "Let's use the dis module to examine what's going on at the byte code level."
   ]
  },
  {
   "cell_type": "code",
   "execution_count": 14,
   "metadata": {
    "collapsed": false
   },
   "outputs": [
    {
     "name": "stdout",
     "output_type": "stream",
     "text": [
      "  5           0 LOAD_CONST               1 (0)\n",
      "              3 LOAD_CONST               2 (1)\n",
      "              6 LOAD_CONST               3 (2)\n",
      "              9 LOAD_CONST               5 (-1)\n",
      "             12 LOAD_CONST               6 (-3)\n",
      "             15 LOAD_CONST               3 (2)\n",
      "             18 BUILD_LIST               6\n",
      "             21 STORE_FAST               0 (old_list)\n",
      "\n",
      "  6          24 BUILD_LIST               0\n",
      "             27 STORE_FAST               1 (new_list)\n",
      "\n",
      "  7          30 SETUP_LOOP              39 (to 72)\n",
      "             33 LOAD_FAST                0 (old_list)\n",
      "             36 GET_ITER\n",
      "        >>   37 FOR_ITER                31 (to 71)\n",
      "             40 STORE_FAST               2 (item)\n",
      "\n",
      "  8          43 LOAD_GLOBAL              0 (func)\n",
      "             46 LOAD_FAST                2 (item)\n",
      "             49 CALL_FUNCTION            1 (1 positional, 0 keyword pair)\n",
      "             52 POP_JUMP_IF_FALSE       37\n",
      "\n",
      "  9          55 LOAD_FAST                1 (new_list)\n",
      "             58 LOAD_ATTR                1 (append)\n",
      "             61 LOAD_FAST                2 (item)\n",
      "             64 CALL_FUNCTION            1 (1 positional, 0 keyword pair)\n",
      "             67 POP_TOP\n",
      "             68 JUMP_ABSOLUTE           37\n",
      "        >>   71 POP_BLOCK\n",
      "\n",
      " 10     >>   72 LOAD_FAST                1 (new_list)\n",
      "             75 RETURN_VALUE\n"
     ]
    }
   ],
   "source": [
    "import dis\n",
    "dis.dis(f1)"
   ]
  },
  {
   "cell_type": "markdown",
   "metadata": {
    "collapsed": false
   },
   "source": [
    "Whew! That's a lot of byte codes. The first column is the line number from the code fragment we entered. There's not much documentation on the rest of the output, but it's simple enough to see what's going on.\n",
    "\n",
    "First, LOAD_CONST loads a constant into the stack. BUILD_LIST takes the constants and builds a list, which STORE_FAST pushes on the stack. This is the byte code corresponding to line 5. We next begin with line 6, which creates an empty list.\n",
    "\n",
    "Line 7 sets up the loop, which ends at bytecode line 72 in our listing, and LOAD_FAST pushes a reference onto the stack. Next, get the iterator, and we start the loop. FOR_ITER calls next() on the iteratable object (in this case a list), and pushes it onto the stack.\n",
    "\n",
    "There are a few other bookkeeping calls here, but note the LOAD_ATTR byte code. This loads the append() function from the virtual table for the list object. As we shall see below, this is the biggest bottleneck for performance.\n",
    "\n",
    "The complete list of byte codes for version 2.7 is https://docs.python.org/2/library/dis.html, in case you are interested."
   ]
  },
  {
   "cell_type": "code",
   "execution_count": null,
   "metadata": {
    "collapsed": true
   },
   "outputs": [],
   "source": []
  }
 ],
 "metadata": {
  "kernelspec": {
   "display_name": "Python 2",
   "language": "python",
   "name": "python2"
  },
  "language_info": {
   "codemirror_mode": {
    "name": "ipython",
    "version": 2
   },
   "file_extension": ".py",
   "mimetype": "text/x-python",
   "name": "python",
   "nbconvert_exporter": "python",
   "pygments_lexer": "ipython2",
   "version": "2.7.11"
  }
 },
 "nbformat": 4,
 "nbformat_minor": 0
}
